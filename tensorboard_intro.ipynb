{
 "cells": [
  {
   "cell_type": "code",
   "execution_count": 1,
   "metadata": {},
   "outputs": [],
   "source": [
    "import numpy as np\n",
    "import pandas as pd"
   ]
  },
  {
   "cell_type": "code",
   "execution_count": 2,
   "metadata": {},
   "outputs": [],
   "source": [
    "df = pd.read_csv(\"./data_sets/cancer_classification.csv\")"
   ]
  },
  {
   "cell_type": "code",
   "execution_count": 3,
   "metadata": {},
   "outputs": [],
   "source": [
    "X = df.drop(\"benign_0__mal_1\", axis=1).values\n",
    "y = df[\"benign_0__mal_1\"].values"
   ]
  },
  {
   "cell_type": "code",
   "execution_count": 4,
   "metadata": {},
   "outputs": [],
   "source": [
    "from sklearn.model_selection import train_test_split"
   ]
  },
  {
   "cell_type": "code",
   "execution_count": 5,
   "metadata": {},
   "outputs": [],
   "source": [
    "X_train, X_test, y_train, y_test = train_test_split(\n",
    "    X, y, test_size=0.25, random_state=101)"
   ]
  },
  {
   "cell_type": "code",
   "execution_count": 6,
   "metadata": {},
   "outputs": [],
   "source": [
    "from sklearn.preprocessing import MinMaxScaler"
   ]
  },
  {
   "cell_type": "code",
   "execution_count": 7,
   "metadata": {},
   "outputs": [],
   "source": [
    "scaler = MinMaxScaler()"
   ]
  },
  {
   "cell_type": "code",
   "execution_count": 8,
   "metadata": {},
   "outputs": [],
   "source": [
    "X_train = scaler.fit_transform(X_train)"
   ]
  },
  {
   "cell_type": "code",
   "execution_count": 9,
   "metadata": {},
   "outputs": [],
   "source": [
    "X_test = scaler.transform(X_test)"
   ]
  },
  {
   "cell_type": "code",
   "execution_count": 10,
   "metadata": {},
   "outputs": [],
   "source": [
    "from tensorflow.keras.models import Sequential\n",
    "from tensorflow.keras.layers import Dense, Activation, Dropout"
   ]
  },
  {
   "cell_type": "code",
   "execution_count": 11,
   "metadata": {},
   "outputs": [],
   "source": [
    "from tensorflow.keras.callbacks import EarlyStopping, TensorBoard"
   ]
  },
  {
   "cell_type": "code",
   "execution_count": 12,
   "metadata": {},
   "outputs": [],
   "source": [
    "early_stop = EarlyStopping(\n",
    "    monitor=\"val_loss\", mode=\"min\", verbose=1, patience=25)"
   ]
  },
  {
   "cell_type": "code",
   "execution_count": 13,
   "metadata": {},
   "outputs": [
    {
     "data": {
      "text/plain": [
       "'/home/kennedymungai/Documents/Projects/Python/tensorflow_intro'"
      ]
     },
     "execution_count": 13,
     "metadata": {},
     "output_type": "execute_result"
    }
   ],
   "source": [
    "pwd"
   ]
  },
  {
   "cell_type": "code",
   "execution_count": 14,
   "metadata": {},
   "outputs": [],
   "source": [
    "from datetime import datetime"
   ]
  },
  {
   "cell_type": "code",
   "execution_count": 16,
   "metadata": {},
   "outputs": [
    {
     "data": {
      "text/plain": [
       "'2024-03-08--0340'"
      ]
     },
     "execution_count": 16,
     "metadata": {},
     "output_type": "execute_result"
    }
   ],
   "source": [
    "datetime.now().strftime(\"%Y-%m-%d--%H%M\")"
   ]
  },
  {
   "cell_type": "code",
   "execution_count": 17,
   "metadata": {},
   "outputs": [],
   "source": [
    "log_directory = 'logs/fit'"
   ]
  },
  {
   "cell_type": "code",
   "execution_count": 18,
   "metadata": {},
   "outputs": [
    {
     "name": "stderr",
     "output_type": "stream",
     "text": [
      "2024-03-08 03:44:04.396032: I external/local_tsl/tsl/profiler/lib/profiler_session.cc:104] Profiler session initializing.\n",
      "2024-03-08 03:44:04.396575: I external/local_tsl/tsl/profiler/lib/profiler_session.cc:119] Profiler session started.\n",
      "2024-03-08 03:44:04.399633: I external/local_tsl/tsl/profiler/lib/profiler_session.cc:131] Profiler session tear down.\n"
     ]
    }
   ],
   "source": [
    "board = TensorBoard(log_dir=log_directory, histogram_freq=1, write_graph=True,\n",
    "                    write_images=True, update_freq='epoch', profile_batch=2, embeddings_freq=2)"
   ]
  },
  {
   "cell_type": "code",
   "execution_count": 19,
   "metadata": {},
   "outputs": [],
   "source": [
    "model = Sequential()\n",
    "\n",
    "model.add(Dense(units=30, activation=\"relu\"))\n",
    "model.add(Dropout(0.5))\n",
    "model.add(Dense(units=15, activation=\"relu\"))\n",
    "model.add(Dropout(0.5))\n",
    "model.add(Dense(units=1, activation=\"sigmoid\"))\n",
    "model.compile(loss=\"binary_crossentropy\", optimizer=\"adam\")"
   ]
  },
  {
   "cell_type": "code",
   "execution_count": 20,
   "metadata": {},
   "outputs": [
    {
     "name": "stdout",
     "output_type": "stream",
     "text": [
      "Epoch 1/600\n",
      " 8/14 [================>.............] - ETA: 0s - loss: 0.7233 "
     ]
    },
    {
     "name": "stderr",
     "output_type": "stream",
     "text": [
      "2024-03-08 03:47:53.843107: I external/local_tsl/tsl/profiler/lib/profiler_session.cc:104] Profiler session initializing.\n",
      "2024-03-08 03:47:53.843182: I external/local_tsl/tsl/profiler/lib/profiler_session.cc:119] Profiler session started.\n",
      "2024-03-08 03:47:53.852346: I external/local_tsl/tsl/profiler/lib/profiler_session.cc:70] Profiler session collecting data.\n",
      "2024-03-08 03:47:53.855093: I external/local_tsl/tsl/profiler/lib/profiler_session.cc:131] Profiler session tear down.\n",
      "2024-03-08 03:47:53.856359: I external/local_tsl/tsl/profiler/rpc/client/save_profile.cc:144] Collecting XSpace to repository: logs/fit/plugins/profile/2024_03_08_03_47_53/KennedyMungai.xplane.pb\n"
     ]
    },
    {
     "name": "stdout",
     "output_type": "stream",
     "text": [
      "14/14 [==============================] - 3s 66ms/step - loss: 0.7103 - val_loss: 0.6932\n",
      "Epoch 2/600\n",
      "14/14 [==============================] - 0s 18ms/step - loss: 0.7052 - val_loss: 0.6844\n",
      "Epoch 3/600\n",
      "14/14 [==============================] - 0s 19ms/step - loss: 0.6865 - val_loss: 0.6758\n",
      "Epoch 4/600\n",
      "14/14 [==============================] - 0s 17ms/step - loss: 0.6844 - val_loss: 0.6607\n",
      "Epoch 5/600\n",
      "14/14 [==============================] - 0s 16ms/step - loss: 0.6534 - val_loss: 0.6333\n",
      "Epoch 6/600\n",
      "14/14 [==============================] - 0s 16ms/step - loss: 0.6165 - val_loss: 0.5935\n",
      "Epoch 7/600\n",
      "14/14 [==============================] - 0s 21ms/step - loss: 0.5931 - val_loss: 0.5567\n",
      "Epoch 8/600\n",
      "14/14 [==============================] - 0s 16ms/step - loss: 0.5798 - val_loss: 0.5215\n",
      "Epoch 9/600\n",
      "14/14 [==============================] - 0s 21ms/step - loss: 0.5435 - val_loss: 0.4904\n",
      "Epoch 10/600\n",
      "14/14 [==============================] - 0s 17ms/step - loss: 0.5300 - val_loss: 0.4576\n",
      "Epoch 11/600\n",
      "14/14 [==============================] - 0s 18ms/step - loss: 0.5076 - val_loss: 0.4279\n",
      "Epoch 12/600\n",
      "14/14 [==============================] - 0s 15ms/step - loss: 0.4660 - val_loss: 0.3993\n",
      "Epoch 13/600\n",
      "14/14 [==============================] - 0s 31ms/step - loss: 0.4632 - val_loss: 0.3724\n",
      "Epoch 14/600\n",
      "14/14 [==============================] - 0s 34ms/step - loss: 0.4221 - val_loss: 0.3462\n",
      "Epoch 15/600\n",
      "14/14 [==============================] - 0s 22ms/step - loss: 0.4230 - val_loss: 0.3248\n",
      "Epoch 16/600\n",
      "14/14 [==============================] - 0s 13ms/step - loss: 0.4078 - val_loss: 0.3106\n",
      "Epoch 17/600\n",
      "14/14 [==============================] - 0s 36ms/step - loss: 0.3879 - val_loss: 0.2932\n",
      "Epoch 18/600\n",
      "14/14 [==============================] - 0s 26ms/step - loss: 0.3610 - val_loss: 0.2738\n",
      "Epoch 19/600\n",
      "14/14 [==============================] - 0s 14ms/step - loss: 0.3501 - val_loss: 0.2580\n",
      "Epoch 20/600\n",
      "14/14 [==============================] - 0s 15ms/step - loss: 0.3597 - val_loss: 0.2403\n",
      "Epoch 21/600\n",
      "14/14 [==============================] - 0s 14ms/step - loss: 0.3541 - val_loss: 0.2349\n",
      "Epoch 22/600\n",
      "14/14 [==============================] - 0s 11ms/step - loss: 0.3146 - val_loss: 0.2338\n",
      "Epoch 23/600\n",
      "14/14 [==============================] - 0s 14ms/step - loss: 0.3158 - val_loss: 0.2222\n",
      "Epoch 24/600\n",
      "14/14 [==============================] - 0s 17ms/step - loss: 0.3036 - val_loss: 0.2057\n",
      "Epoch 25/600\n",
      "14/14 [==============================] - 0s 17ms/step - loss: 0.3012 - val_loss: 0.2033\n",
      "Epoch 26/600\n",
      "14/14 [==============================] - 0s 16ms/step - loss: 0.3051 - val_loss: 0.1958\n",
      "Epoch 27/600\n",
      "14/14 [==============================] - 0s 16ms/step - loss: 0.2955 - val_loss: 0.1827\n",
      "Epoch 28/600\n",
      "14/14 [==============================] - 0s 16ms/step - loss: 0.2829 - val_loss: 0.1738\n",
      "Epoch 29/600\n",
      "14/14 [==============================] - 0s 16ms/step - loss: 0.2669 - val_loss: 0.1713\n",
      "Epoch 30/600\n",
      "14/14 [==============================] - 0s 18ms/step - loss: 0.2716 - val_loss: 0.1728\n",
      "Epoch 31/600\n",
      "14/14 [==============================] - 0s 13ms/step - loss: 0.2638 - val_loss: 0.1700\n",
      "Epoch 32/600\n",
      "14/14 [==============================] - 0s 12ms/step - loss: 0.2806 - val_loss: 0.1604\n",
      "Epoch 33/600\n",
      "14/14 [==============================] - 0s 23ms/step - loss: 0.2518 - val_loss: 0.1631\n",
      "Epoch 34/600\n",
      "14/14 [==============================] - 0s 12ms/step - loss: 0.2507 - val_loss: 0.1562\n",
      "Epoch 35/600\n",
      "14/14 [==============================] - 0s 26ms/step - loss: 0.2573 - val_loss: 0.1467\n",
      "Epoch 36/600\n",
      "14/14 [==============================] - 0s 13ms/step - loss: 0.2427 - val_loss: 0.1570\n",
      "Epoch 37/600\n",
      "14/14 [==============================] - 0s 16ms/step - loss: 0.2635 - val_loss: 0.1401\n",
      "Epoch 38/600\n",
      "14/14 [==============================] - 0s 12ms/step - loss: 0.2114 - val_loss: 0.1416\n",
      "Epoch 39/600\n",
      "14/14 [==============================] - 0s 20ms/step - loss: 0.2186 - val_loss: 0.1456\n",
      "Epoch 40/600\n",
      "14/14 [==============================] - 0s 14ms/step - loss: 0.2179 - val_loss: 0.1308\n",
      "Epoch 41/600\n",
      "14/14 [==============================] - 0s 14ms/step - loss: 0.2235 - val_loss: 0.1305\n",
      "Epoch 42/600\n",
      "14/14 [==============================] - 0s 17ms/step - loss: 0.1983 - val_loss: 0.1341\n",
      "Epoch 43/600\n",
      "14/14 [==============================] - 0s 24ms/step - loss: 0.1939 - val_loss: 0.1274\n",
      "Epoch 44/600\n",
      "14/14 [==============================] - 0s 20ms/step - loss: 0.2370 - val_loss: 0.1271\n",
      "Epoch 45/600\n",
      "14/14 [==============================] - 0s 30ms/step - loss: 0.1944 - val_loss: 0.1225\n",
      "Epoch 46/600\n",
      "14/14 [==============================] - 0s 28ms/step - loss: 0.1929 - val_loss: 0.1229\n",
      "Epoch 47/600\n",
      "14/14 [==============================] - 0s 29ms/step - loss: 0.1834 - val_loss: 0.1194\n",
      "Epoch 48/600\n",
      "14/14 [==============================] - 0s 16ms/step - loss: 0.2002 - val_loss: 0.1257\n",
      "Epoch 49/600\n",
      "14/14 [==============================] - 0s 15ms/step - loss: 0.1801 - val_loss: 0.1184\n",
      "Epoch 50/600\n",
      "14/14 [==============================] - 0s 15ms/step - loss: 0.1986 - val_loss: 0.1179\n",
      "Epoch 51/600\n",
      "14/14 [==============================] - 0s 16ms/step - loss: 0.1652 - val_loss: 0.1181\n",
      "Epoch 52/600\n",
      "14/14 [==============================] - 0s 20ms/step - loss: 0.1642 - val_loss: 0.1195\n",
      "Epoch 53/600\n",
      "14/14 [==============================] - 0s 15ms/step - loss: 0.1635 - val_loss: 0.1122\n",
      "Epoch 54/600\n",
      "14/14 [==============================] - 0s 14ms/step - loss: 0.1657 - val_loss: 0.1140\n",
      "Epoch 55/600\n",
      "14/14 [==============================] - 0s 15ms/step - loss: 0.1800 - val_loss: 0.1214\n",
      "Epoch 56/600\n",
      "14/14 [==============================] - 0s 14ms/step - loss: 0.1474 - val_loss: 0.1144\n",
      "Epoch 57/600\n",
      "14/14 [==============================] - 0s 16ms/step - loss: 0.1817 - val_loss: 0.1100\n",
      "Epoch 58/600\n",
      "14/14 [==============================] - 0s 16ms/step - loss: 0.1700 - val_loss: 0.1101\n",
      "Epoch 59/600\n",
      "14/14 [==============================] - 0s 15ms/step - loss: 0.1638 - val_loss: 0.1190\n",
      "Epoch 60/600\n",
      "14/14 [==============================] - 0s 15ms/step - loss: 0.1529 - val_loss: 0.1065\n",
      "Epoch 61/600\n",
      "14/14 [==============================] - 0s 16ms/step - loss: 0.1568 - val_loss: 0.1083\n",
      "Epoch 62/600\n",
      "14/14 [==============================] - 0s 17ms/step - loss: 0.1735 - val_loss: 0.1149\n",
      "Epoch 63/600\n",
      "14/14 [==============================] - 0s 16ms/step - loss: 0.1356 - val_loss: 0.1034\n",
      "Epoch 64/600\n",
      "14/14 [==============================] - 0s 16ms/step - loss: 0.1551 - val_loss: 0.1083\n",
      "Epoch 65/600\n",
      "14/14 [==============================] - 0s 15ms/step - loss: 0.1586 - val_loss: 0.1102\n",
      "Epoch 66/600\n",
      "14/14 [==============================] - 0s 14ms/step - loss: 0.1377 - val_loss: 0.0999\n",
      "Epoch 67/600\n",
      "14/14 [==============================] - 0s 16ms/step - loss: 0.1535 - val_loss: 0.1040\n",
      "Epoch 68/600\n",
      "14/14 [==============================] - 0s 15ms/step - loss: 0.1321 - val_loss: 0.1004\n",
      "Epoch 69/600\n",
      "14/14 [==============================] - 0s 16ms/step - loss: 0.1444 - val_loss: 0.1009\n",
      "Epoch 70/600\n",
      "14/14 [==============================] - 0s 14ms/step - loss: 0.1287 - val_loss: 0.0965\n",
      "Epoch 71/600\n",
      "14/14 [==============================] - 0s 17ms/step - loss: 0.1167 - val_loss: 0.1026\n",
      "Epoch 72/600\n",
      "14/14 [==============================] - 0s 16ms/step - loss: 0.1273 - val_loss: 0.1050\n",
      "Epoch 73/600\n",
      "14/14 [==============================] - 0s 15ms/step - loss: 0.1324 - val_loss: 0.1032\n",
      "Epoch 74/600\n",
      "14/14 [==============================] - 0s 15ms/step - loss: 0.1439 - val_loss: 0.1045\n",
      "Epoch 75/600\n",
      "14/14 [==============================] - 0s 15ms/step - loss: 0.1491 - val_loss: 0.0977\n",
      "Epoch 76/600\n",
      "14/14 [==============================] - 0s 14ms/step - loss: 0.1315 - val_loss: 0.0984\n",
      "Epoch 77/600\n",
      "14/14 [==============================] - 0s 17ms/step - loss: 0.1238 - val_loss: 0.1013\n",
      "Epoch 78/600\n",
      "14/14 [==============================] - 0s 14ms/step - loss: 0.1108 - val_loss: 0.0951\n",
      "Epoch 79/600\n",
      "14/14 [==============================] - 0s 19ms/step - loss: 0.1153 - val_loss: 0.0948\n",
      "Epoch 80/600\n",
      "14/14 [==============================] - 0s 21ms/step - loss: 0.1461 - val_loss: 0.0955\n",
      "Epoch 81/600\n",
      "14/14 [==============================] - 0s 22ms/step - loss: 0.1365 - val_loss: 0.0992\n",
      "Epoch 82/600\n",
      "14/14 [==============================] - 0s 24ms/step - loss: 0.1276 - val_loss: 0.1016\n",
      "Epoch 83/600\n",
      "14/14 [==============================] - 0s 23ms/step - loss: 0.1253 - val_loss: 0.0916\n",
      "Epoch 84/600\n",
      "14/14 [==============================] - 0s 24ms/step - loss: 0.1129 - val_loss: 0.1013\n",
      "Epoch 85/600\n",
      "14/14 [==============================] - 0s 29ms/step - loss: 0.1347 - val_loss: 0.0987\n",
      "Epoch 86/600\n",
      "14/14 [==============================] - 0s 22ms/step - loss: 0.1226 - val_loss: 0.1074\n",
      "Epoch 87/600\n",
      "14/14 [==============================] - 1s 48ms/step - loss: 0.1291 - val_loss: 0.1150\n",
      "Epoch 88/600\n",
      "14/14 [==============================] - 0s 30ms/step - loss: 0.1074 - val_loss: 0.0956\n",
      "Epoch 89/600\n",
      "14/14 [==============================] - 0s 29ms/step - loss: 0.1080 - val_loss: 0.0953\n",
      "Epoch 90/600\n",
      "14/14 [==============================] - 0s 23ms/step - loss: 0.1078 - val_loss: 0.0936\n",
      "Epoch 91/600\n",
      "14/14 [==============================] - 0s 25ms/step - loss: 0.1099 - val_loss: 0.0912\n",
      "Epoch 92/600\n",
      "14/14 [==============================] - 0s 33ms/step - loss: 0.1289 - val_loss: 0.0950\n",
      "Epoch 93/600\n",
      "14/14 [==============================] - 1s 47ms/step - loss: 0.1063 - val_loss: 0.0924\n",
      "Epoch 94/600\n",
      "14/14 [==============================] - 1s 40ms/step - loss: 0.0992 - val_loss: 0.0932\n",
      "Epoch 95/600\n",
      "14/14 [==============================] - 0s 36ms/step - loss: 0.1046 - val_loss: 0.0912\n",
      "Epoch 96/600\n",
      "14/14 [==============================] - 0s 22ms/step - loss: 0.1253 - val_loss: 0.0930\n",
      "Epoch 97/600\n",
      "14/14 [==============================] - 0s 29ms/step - loss: 0.1014 - val_loss: 0.0920\n",
      "Epoch 98/600\n",
      "14/14 [==============================] - 0s 34ms/step - loss: 0.0996 - val_loss: 0.0963\n",
      "Epoch 99/600\n",
      "14/14 [==============================] - 0s 27ms/step - loss: 0.1128 - val_loss: 0.0950\n",
      "Epoch 100/600\n",
      "14/14 [==============================] - 0s 25ms/step - loss: 0.1037 - val_loss: 0.1038\n",
      "Epoch 101/600\n",
      "14/14 [==============================] - 1s 46ms/step - loss: 0.1127 - val_loss: 0.1076\n",
      "Epoch 102/600\n",
      "14/14 [==============================] - 1s 40ms/step - loss: 0.0982 - val_loss: 0.0887\n",
      "Epoch 103/600\n",
      "14/14 [==============================] - 1s 50ms/step - loss: 0.1068 - val_loss: 0.0937\n",
      "Epoch 104/600\n",
      "14/14 [==============================] - 0s 36ms/step - loss: 0.1110 - val_loss: 0.1053\n",
      "Epoch 105/600\n",
      "14/14 [==============================] - 1s 44ms/step - loss: 0.1090 - val_loss: 0.0898\n",
      "Epoch 106/600\n",
      "14/14 [==============================] - 0s 37ms/step - loss: 0.0982 - val_loss: 0.0883\n",
      "Epoch 107/600\n",
      "14/14 [==============================] - 0s 37ms/step - loss: 0.0985 - val_loss: 0.0937\n",
      "Epoch 108/600\n",
      "14/14 [==============================] - 0s 36ms/step - loss: 0.1017 - val_loss: 0.0973\n",
      "Epoch 109/600\n",
      "14/14 [==============================] - 0s 29ms/step - loss: 0.1051 - val_loss: 0.0990\n",
      "Epoch 110/600\n",
      "14/14 [==============================] - 0s 27ms/step - loss: 0.0964 - val_loss: 0.0904\n",
      "Epoch 111/600\n",
      "14/14 [==============================] - 0s 27ms/step - loss: 0.0818 - val_loss: 0.0882\n",
      "Epoch 112/600\n",
      "14/14 [==============================] - 0s 18ms/step - loss: 0.1020 - val_loss: 0.0908\n",
      "Epoch 113/600\n",
      "14/14 [==============================] - 0s 29ms/step - loss: 0.0996 - val_loss: 0.0889\n",
      "Epoch 114/600\n",
      "14/14 [==============================] - 0s 23ms/step - loss: 0.0956 - val_loss: 0.0876\n",
      "Epoch 115/600\n",
      "14/14 [==============================] - 0s 26ms/step - loss: 0.0907 - val_loss: 0.0911\n",
      "Epoch 116/600\n",
      "14/14 [==============================] - 0s 24ms/step - loss: 0.1003 - val_loss: 0.0867\n",
      "Epoch 117/600\n",
      "14/14 [==============================] - 0s 23ms/step - loss: 0.1014 - val_loss: 0.0967\n",
      "Epoch 118/600\n",
      "14/14 [==============================] - 0s 29ms/step - loss: 0.0845 - val_loss: 0.1007\n",
      "Epoch 119/600\n",
      "14/14 [==============================] - 1s 41ms/step - loss: 0.1162 - val_loss: 0.0944\n",
      "Epoch 120/600\n",
      "14/14 [==============================] - 1s 39ms/step - loss: 0.0873 - val_loss: 0.0943\n",
      "Epoch 121/600\n",
      "14/14 [==============================] - 0s 23ms/step - loss: 0.1058 - val_loss: 0.0950\n",
      "Epoch 122/600\n",
      "14/14 [==============================] - 0s 18ms/step - loss: 0.0824 - val_loss: 0.0970\n",
      "Epoch 123/600\n",
      "14/14 [==============================] - 0s 23ms/step - loss: 0.0832 - val_loss: 0.0980\n",
      "Epoch 124/600\n",
      "14/14 [==============================] - 0s 18ms/step - loss: 0.0861 - val_loss: 0.0938\n",
      "Epoch 125/600\n",
      "14/14 [==============================] - 0s 19ms/step - loss: 0.1137 - val_loss: 0.0849\n",
      "Epoch 126/600\n",
      "14/14 [==============================] - 0s 19ms/step - loss: 0.0847 - val_loss: 0.1019\n",
      "Epoch 127/600\n",
      "14/14 [==============================] - 0s 30ms/step - loss: 0.1014 - val_loss: 0.1254\n",
      "Epoch 128/600\n",
      "14/14 [==============================] - 0s 20ms/step - loss: 0.0738 - val_loss: 0.0889\n",
      "Epoch 129/600\n",
      "14/14 [==============================] - 0s 19ms/step - loss: 0.0792 - val_loss: 0.0999\n",
      "Epoch 130/600\n",
      "14/14 [==============================] - 0s 18ms/step - loss: 0.0924 - val_loss: 0.0905\n",
      "Epoch 131/600\n",
      "14/14 [==============================] - 0s 19ms/step - loss: 0.0770 - val_loss: 0.0950\n",
      "Epoch 132/600\n",
      "14/14 [==============================] - 0s 19ms/step - loss: 0.0843 - val_loss: 0.0911\n",
      "Epoch 133/600\n",
      "14/14 [==============================] - 0s 31ms/step - loss: 0.0974 - val_loss: 0.0931\n",
      "Epoch 134/600\n",
      "14/14 [==============================] - 0s 25ms/step - loss: 0.0854 - val_loss: 0.0917\n",
      "Epoch 135/600\n",
      "14/14 [==============================] - 0s 22ms/step - loss: 0.0921 - val_loss: 0.0890\n",
      "Epoch 136/600\n",
      "14/14 [==============================] - 0s 17ms/step - loss: 0.0735 - val_loss: 0.0870\n",
      "Epoch 137/600\n",
      "14/14 [==============================] - 0s 19ms/step - loss: 0.0722 - val_loss: 0.0869\n",
      "Epoch 138/600\n",
      "14/14 [==============================] - 0s 18ms/step - loss: 0.0816 - val_loss: 0.0946\n",
      "Epoch 139/600\n",
      "14/14 [==============================] - 0s 19ms/step - loss: 0.0914 - val_loss: 0.0996\n",
      "Epoch 140/600\n",
      "14/14 [==============================] - 0s 18ms/step - loss: 0.0865 - val_loss: 0.0849\n",
      "Epoch 141/600\n",
      "14/14 [==============================] - 0s 26ms/step - loss: 0.0973 - val_loss: 0.0909\n",
      "Epoch 142/600\n",
      "14/14 [==============================] - 0s 27ms/step - loss: 0.0835 - val_loss: 0.0877\n",
      "Epoch 143/600\n",
      "14/14 [==============================] - 0s 21ms/step - loss: 0.0868 - val_loss: 0.0990\n",
      "Epoch 144/600\n",
      "14/14 [==============================] - 0s 22ms/step - loss: 0.0816 - val_loss: 0.1031\n",
      "Epoch 145/600\n",
      "14/14 [==============================] - 0s 26ms/step - loss: 0.0911 - val_loss: 0.0981\n",
      "Epoch 146/600\n",
      "14/14 [==============================] - 0s 21ms/step - loss: 0.0674 - val_loss: 0.1029\n",
      "Epoch 147/600\n",
      "14/14 [==============================] - 0s 25ms/step - loss: 0.0899 - val_loss: 0.0921\n",
      "Epoch 148/600\n",
      "14/14 [==============================] - 0s 23ms/step - loss: 0.0873 - val_loss: 0.0955\n",
      "Epoch 149/600\n",
      "14/14 [==============================] - 0s 27ms/step - loss: 0.0851 - val_loss: 0.0991\n",
      "Epoch 150/600\n",
      "14/14 [==============================] - 0s 22ms/step - loss: 0.0775 - val_loss: 0.0847\n",
      "Epoch 151/600\n",
      "14/14 [==============================] - 0s 22ms/step - loss: 0.0808 - val_loss: 0.0854\n",
      "Epoch 152/600\n",
      "14/14 [==============================] - 0s 18ms/step - loss: 0.0849 - val_loss: 0.1043\n",
      "Epoch 153/600\n",
      "14/14 [==============================] - 0s 24ms/step - loss: 0.0884 - val_loss: 0.0840\n",
      "Epoch 154/600\n",
      "14/14 [==============================] - 0s 33ms/step - loss: 0.0781 - val_loss: 0.0882\n",
      "Epoch 155/600\n",
      "14/14 [==============================] - 0s 29ms/step - loss: 0.0994 - val_loss: 0.1104\n",
      "Epoch 156/600\n",
      "14/14 [==============================] - 0s 26ms/step - loss: 0.0929 - val_loss: 0.0955\n",
      "Epoch 157/600\n",
      "14/14 [==============================] - 0s 27ms/step - loss: 0.0783 - val_loss: 0.0876\n",
      "Epoch 158/600\n",
      "14/14 [==============================] - 0s 26ms/step - loss: 0.0766 - val_loss: 0.0973\n",
      "Epoch 159/600\n",
      "14/14 [==============================] - 0s 23ms/step - loss: 0.0820 - val_loss: 0.1147\n",
      "Epoch 160/600\n",
      "14/14 [==============================] - 0s 24ms/step - loss: 0.0753 - val_loss: 0.0919\n",
      "Epoch 161/600\n",
      "14/14 [==============================] - 0s 22ms/step - loss: 0.0712 - val_loss: 0.1005\n",
      "Epoch 162/600\n",
      "14/14 [==============================] - 0s 25ms/step - loss: 0.0836 - val_loss: 0.0959\n",
      "Epoch 163/600\n",
      "14/14 [==============================] - 0s 24ms/step - loss: 0.0657 - val_loss: 0.0841\n",
      "Epoch 164/600\n",
      "14/14 [==============================] - 0s 24ms/step - loss: 0.0718 - val_loss: 0.0910\n",
      "Epoch 165/600\n",
      "14/14 [==============================] - 0s 36ms/step - loss: 0.0829 - val_loss: 0.0903\n",
      "Epoch 166/600\n",
      "14/14 [==============================] - 1s 45ms/step - loss: 0.0675 - val_loss: 0.0867\n",
      "Epoch 167/600\n",
      "14/14 [==============================] - 0s 36ms/step - loss: 0.0904 - val_loss: 0.0992\n",
      "Epoch 168/600\n",
      "14/14 [==============================] - 0s 22ms/step - loss: 0.0560 - val_loss: 0.0935\n",
      "Epoch 169/600\n",
      "14/14 [==============================] - 1s 44ms/step - loss: 0.0886 - val_loss: 0.1073\n",
      "Epoch 170/600\n",
      "14/14 [==============================] - 0s 29ms/step - loss: 0.0746 - val_loss: 0.0945\n",
      "Epoch 171/600\n",
      "14/14 [==============================] - 1s 39ms/step - loss: 0.0726 - val_loss: 0.1166\n",
      "Epoch 172/600\n",
      "14/14 [==============================] - 0s 28ms/step - loss: 0.0817 - val_loss: 0.0983\n",
      "Epoch 173/600\n",
      "14/14 [==============================] - 0s 26ms/step - loss: 0.0579 - val_loss: 0.0864\n",
      "Epoch 174/600\n",
      "14/14 [==============================] - 0s 20ms/step - loss: 0.0770 - val_loss: 0.1045\n",
      "Epoch 175/600\n",
      "14/14 [==============================] - 0s 35ms/step - loss: 0.0569 - val_loss: 0.1044\n",
      "Epoch 176/600\n",
      "14/14 [==============================] - 0s 21ms/step - loss: 0.0867 - val_loss: 0.0947\n",
      "Epoch 177/600\n",
      "14/14 [==============================] - 0s 21ms/step - loss: 0.0739 - val_loss: 0.0934\n",
      "Epoch 178/600\n",
      "14/14 [==============================] - 0s 20ms/step - loss: 0.0660 - val_loss: 0.0908\n",
      "Epoch 178: early stopping\n"
     ]
    },
    {
     "data": {
      "text/plain": [
       "<keras.src.callbacks.History at 0x7f6204547370>"
      ]
     },
     "execution_count": 20,
     "metadata": {},
     "output_type": "execute_result"
    }
   ],
   "source": [
    "model.fit(\n",
    "    x=X_train, y=y_train, epochs=600, validation_data=(X_test, y_test),\n",
    "    callbacks=[early_stop, board]\n",
    ")"
   ]
  },
  {
   "cell_type": "code",
   "execution_count": 21,
   "metadata": {},
   "outputs": [
    {
     "name": "stdout",
     "output_type": "stream",
     "text": [
      "logs/fit\n"
     ]
    }
   ],
   "source": [
    "print(log_directory)"
   ]
  },
  {
   "cell_type": "code",
   "execution_count": 22,
   "metadata": {},
   "outputs": [
    {
     "name": "stdout",
     "output_type": "stream",
     "text": [
      "Model: \"sequential\"\n",
      "_________________________________________________________________\n",
      " Layer (type)                Output Shape              Param #   \n",
      "=================================================================\n",
      " dense (Dense)               (None, 30)                930       \n",
      "                                                                 \n",
      " dropout (Dropout)           (None, 30)                0         \n",
      "                                                                 \n",
      " dense_1 (Dense)             (None, 15)                465       \n",
      "                                                                 \n",
      " dropout_1 (Dropout)         (None, 15)                0         \n",
      "                                                                 \n",
      " dense_2 (Dense)             (None, 1)                 16        \n",
      "                                                                 \n",
      "=================================================================\n",
      "Total params: 1411 (5.51 KB)\n",
      "Trainable params: 1411 (5.51 KB)\n",
      "Non-trainable params: 0 (0.00 Byte)\n",
      "_________________________________________________________________\n"
     ]
    }
   ],
   "source": [
    "model.summary()"
   ]
  },
  {
   "cell_type": "code",
   "execution_count": 23,
   "metadata": {},
   "outputs": [
    {
     "data": {
      "text/plain": [
       "'/home/kennedymungai/Documents/Projects/Python/tensorflow_intro'"
      ]
     },
     "execution_count": 23,
     "metadata": {},
     "output_type": "execute_result"
    }
   ],
   "source": [
    "pwd"
   ]
  }
 ],
 "metadata": {
  "kernelspec": {
   "display_name": "venv",
   "language": "python",
   "name": "python3"
  },
  "language_info": {
   "codemirror_mode": {
    "name": "ipython",
    "version": 3
   },
   "file_extension": ".py",
   "mimetype": "text/x-python",
   "name": "python",
   "nbconvert_exporter": "python",
   "pygments_lexer": "ipython3",
   "version": "3.10.12"
  }
 },
 "nbformat": 4,
 "nbformat_minor": 2
}
